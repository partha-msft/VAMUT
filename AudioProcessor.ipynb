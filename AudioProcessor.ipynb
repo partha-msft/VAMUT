{
 "cells": [
  {
   "cell_type": "code",
   "execution_count": 1,
   "metadata": {},
   "outputs": [],
   "source": [
    "import os\n",
    "import sys\n",
    "import wave\n",
    "from pocketsphinx import *"
   ]
  },
  {
   "cell_type": "code",
   "execution_count": 2,
   "metadata": {},
   "outputs": [],
   "source": [
    "MODELDIR = 'C:\\\\Users\\\\pasm\\\\Documents\\\\Hack2020\\\\Silencio\\\\hack2020\\\\Lib\\\\site-packages\\\\pocketsphinx\\\\model'\n",
    "BUFSIZE = 2048\n",
    "THRESHOLD = 0\n",
    "\n",
    "class AudioProcessor:\n",
    "    def __init__(self):        \n",
    "        self.config = Decoder.default_config()\n",
    "        self.config.set_string('-hmm', os.path.join(MODELDIR, 'en-us'))\n",
    "        self.config.set_string('-lm', os.path.join(MODELDIR, 'en-us.lm.bin'))\n",
    "        self.config.set_string('-dict', os.path.join(MODELDIR, 'cmudict-en-us.dict'))\n",
    "        self.config.set_string('-keyphrase', 'speak')\n",
    "        self.config.set_float('-kws_threshold', 1e-5)\n",
    "        self.config.set_float('-verbose', 0)\n",
    "        self.decoder = Decoder(self.config)\n",
    "\n",
    "    def ProcessAudioData(self, audioData):\n",
    "        index = 0\n",
    "        total = 0\n",
    "        voice = 0\n",
    "        self.decoder.start_utt()\n",
    "        while (index < len(audioData)):\n",
    "            total += 1\n",
    "            chunk = audioData[index:(index+BUFSIZE)]\n",
    "            self.decoder.process_raw(chunk, False, False)\n",
    "            if self.decoder.hyp() != None:\n",
    "                self.decoder.end_utt()\n",
    "                voice += 1\n",
    "                self.decoder.start_utt()\n",
    "            index += BUFSIZE\n",
    "\n",
    "        self.decoder.end_utt()\n",
    "        return (voice/total > THRESHOLD)"
   ]
  },
  {
   "cell_type": "code",
   "execution_count": 3,
   "metadata": {},
   "outputs": [
    {
     "name": "stdout",
     "output_type": "stream",
     "text": [
      "Mute at 8\n",
      "Unmute at 11\n",
      "VVV.V.....VVVV\n"
     ]
    }
   ],
   "source": [
    "inputFilePath = 'C:\\\\Users\\\\pasm\\\\Documents\\\\Hack2020\\\\Silencio\\\\Inputs\\\\SpeechWithMinNoise.wav'\n",
    "sampleSizeInMs = 1000\n",
    "\n",
    "audioProcessor = AudioProcessor()\n",
    "aud = wave.open(inputFilePath, 'r')\n",
    "ans = ''\n",
    "\n",
    "framesPerSample = aud.getframerate() * sampleSizeInMs / 1000\n",
    "counter = 0\n",
    "muted = False\n",
    "while (counter * framesPerSample < aud.getnframes()):\n",
    "    counter += 1\n",
    "    data = aud.readframes(int(framesPerSample))\n",
    "    if audioProcessor.ProcessAudioData(data):\n",
    "        ans += 'V'\n",
    "        if (muted):\n",
    "            muted = False\n",
    "            print ('Unmute at ' + str(counter))\n",
    "    else:\n",
    "        ans += '.'\n",
    "        if (not muted and ('V' not in ans[-3:])):\n",
    "            muted = True\n",
    "            print ('Mute at ' + str(counter))\n",
    "\n",
    "aud.close()\n",
    "print(ans)"
   ]
  }
 ],
 "metadata": {
  "kernelspec": {
   "display_name": "Python 3",
   "language": "python",
   "name": "python3"
  },
  "language_info": {
   "codemirror_mode": {
    "name": "ipython",
    "version": 3
   },
   "file_extension": ".py",
   "mimetype": "text/x-python",
   "name": "python",
   "nbconvert_exporter": "python",
   "pygments_lexer": "ipython3",
   "version": "3.7.6"
  }
 },
 "nbformat": 4,
 "nbformat_minor": 4
}
